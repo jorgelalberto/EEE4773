{
 "cells": [
  {
   "cell_type": "code",
   "execution_count": null,
   "id": "e8f360c5-9eda-462d-82a2-fa631aac3881",
   "metadata": {
    "id": "TqOt6Sv7AsMi",
    "tags": []
   },
   "outputs": [],
   "source": [
    "import matplotlib.pyplot as plt\n",
    "import numpy as np\n",
    "import os\n",
    "import tensorflow as tf\n",
    "from tensorflow import keras\n",
    "from tensorflow.keras import layers\n",
    "from tensorflow.keras.models import Sequential\n",
    "\n",
    "from sklearn.model_selection import train_test_split\n",
    "from sklearn.metrics import confusion_matrix, ConfusionMatrixDisplay, classification_report"
   ]
  },
  {
   "cell_type": "markdown",
   "id": "2906bd29-a8ea-42c5-a684-7567b71f3c11",
   "metadata": {
    "id": "v77rlkCKW0IJ"
   },
   "source": [
    "# Data preprocessing"
   ]
  },
  {
   "cell_type": "code",
   "execution_count": null,
   "id": "261709b5-9d0c-4ff8-a573-a1dbc3b4f0f2",
   "metadata": {
    "id": "ro4oYaEmxe4r",
    "tags": []
   },
   "outputs": [],
   "source": [
    "test_dataset = np.load('').T # Input the path to your test dataset here\n",
    "labels = np.load('') # Input the path to your test labels here"
   ]
  },
  {
   "cell_type": "code",
   "execution_count": null,
   "id": "dc54001a-08e8-466f-9a06-7d9e131cfa5a",
   "metadata": {
    "tags": []
   },
   "outputs": [],
   "source": [
    "data_test_size = test_dataset.shape[0]\n",
    "data_test_shaped = np.zeros(shape=(data_test_size,300,300,3))\n",
    "\n",
    "for image in range(data_test_size):\n",
    "    one_img = test_dataset[image].reshape((300, 300, 3))\n",
    "    data_test_shaped[image] = one_img\n",
    "data_test_shaped.shape"
   ]
  },
  {
   "cell_type": "code",
   "execution_count": null,
   "id": "f976659f-9501-480a-a745-a361baac819c",
   "metadata": {},
   "outputs": [],
   "source": [
    "import gc\n",
    "del test_dataset\n",
    "gc.collect()"
   ]
  },
  {
   "cell_type": "code",
   "execution_count": null,
   "id": "a556552f-52e0-49b8-8284-c45134de954a",
   "metadata": {},
   "outputs": [],
   "source": [
    "data_test_shaped = data_test_shaped.astype('uint8')\n",
    "labels_test = labels.astype('uint8')"
   ]
  },
  {
   "cell_type": "code",
   "execution_count": null,
   "id": "16fd6442-5fad-4a11-b8b7-2ba0d2bd4fd6",
   "metadata": {
    "tags": []
   },
   "outputs": [],
   "source": [
    "test_dataset = tf.data.Dataset.from_tensor_slices((data_test_shaped, labels))"
   ]
  },
  {
   "cell_type": "code",
   "execution_count": null,
   "id": "d9c10a2c-0917-4272-a791-02df068ed9e6",
   "metadata": {},
   "outputs": [],
   "source": [
    "BATCH_SIZE = 42\n",
    "SHUFFLE_BUFFER_SIZE = 100\n",
    "\n",
    "test_dataset = test_dataset.batch(BATCH_SIZE)"
   ]
  },
  {
   "cell_type": "code",
   "execution_count": null,
   "id": "90774b2e-d764-4f82-9c6e-9b7f23c3f0b0",
   "metadata": {
    "tags": []
   },
   "outputs": [],
   "source": [
    "test_dataset"
   ]
  },
  {
   "cell_type": "markdown",
   "id": "a4c76cc1-a0bd-4615-8974-230b67c972ad",
   "metadata": {
    "id": "yO1Q2JaW5sIy"
   },
   "source": [
    "Show the first nine images and labels from the training set:"
   ]
  },
  {
   "cell_type": "code",
   "execution_count": null,
   "id": "fdcf8320-84df-48b2-b3da-6d7e0682211d",
   "metadata": {
    "id": "K5BeQyKThC_Y",
    "tags": []
   },
   "outputs": [],
   "source": [
    "plt.figure(figsize=(10, 10))\n",
    "for images, labels in test_dataset.take(1):\n",
    "  for i in range(9):\n",
    "    ax = plt.subplot(3, 3, i + 1)\n",
    "    plt.imshow(images[i].numpy().astype(\"uint8\"))\n",
    "    plt.title(labels[i].numpy())\n",
    "    plt.axis(\"off\")"
   ]
  },
  {
   "cell_type": "markdown",
   "id": "196b7d57-68d2-4c69-8053-daf56d094aa6",
   "metadata": {
    "id": "EZqCX_mpV3Mx"
   },
   "source": [
    "As the original dataset doesn't contain a test set, you will create one. To do so, determine how many batches of data are available in the validation set using `tf.data.experimental.cardinality`, then move 20% of them to a test set."
   ]
  },
  {
   "cell_type": "code",
   "execution_count": null,
   "id": "b0acc790-9eef-4588-9c33-82d37043c6e1",
   "metadata": {
    "id": "Q9pFlFWgBKgH",
    "scrolled": true,
    "tags": []
   },
   "outputs": [],
   "source": [
    "print('Number of train batches: %d' % tf.data.experimental.cardinality(test_dataset))"
   ]
  },
  {
   "cell_type": "code",
   "execution_count": null,
   "id": "3a3e71cf-7a20-4e1a-884f-c4901ca948a0",
   "metadata": {},
   "outputs": [],
   "source": [
    "for image_batch, labels_batch in test_dataset:\n",
    "  print(image_batch.shape)\n",
    "  print(labels_batch.shape)\n",
    "  break"
   ]
  },
  {
   "cell_type": "code",
   "execution_count": null,
   "id": "3e2eb571-fa30-4595-9772-5002e98afb9b",
   "metadata": {},
   "outputs": [],
   "source": [
    "AUTOTUNE = tf.data.AUTOTUNE\n",
    "\n",
    "test_ds = test_dataset.cache().prefetch(buffer_size=AUTOTUNE)"
   ]
  },
  {
   "cell_type": "code",
   "execution_count": null,
   "id": "67fb65a0-8632-4630-a354-1dba955e0103",
   "metadata": {
    "tags": []
   },
   "outputs": [],
   "source": [
    "Nocturna = tf.keras.models.load_model('NocturnaEmblemClassifierV3.h5')"
   ]
  },
  {
   "cell_type": "code",
   "execution_count": null,
   "id": "ab92ea2b-5cf2-4cf4-a1ef-1fcbea59119c",
   "metadata": {
    "tags": []
   },
   "outputs": [],
   "source": [
    "predictions = Nocturna.predict(test_ds)"
   ]
  },
  {
   "cell_type": "code",
   "execution_count": null,
   "id": "b2a6a9b4-fad0-45d4-a181-1dbfc9d4886b",
   "metadata": {
    "tags": []
   },
   "outputs": [],
   "source": [
    "class_names = [0,1,2,3,4,5,6,7,8,9]"
   ]
  },
  {
   "cell_type": "code",
   "execution_count": null,
   "id": "e34b6b6c-fd4e-4b58-b93b-a041b39439f3",
   "metadata": {
    "tags": []
   },
   "outputs": [],
   "source": [
    "y_test = np.zeros(shape=predictions.shape[0])\n",
    "for i in range(predictions.shape[0]):\n",
    "    score = tf.nn.softmax(predictions[i])\n",
    "    y_test[i] = class_names[np.argmax(score)]\n",
    "    "
   ]
  },
  {
   "cell_type": "code",
   "execution_count": null,
   "id": "8458926b-437a-48ff-8fca-0f18bb0590f6",
   "metadata": {
    "tags": []
   },
   "outputs": [],
   "source": [
    "test_cm = confusion_matrix(labels_test, y_test)"
   ]
  },
  {
   "cell_type": "code",
   "execution_count": null,
   "id": "87babf09-dea7-44f8-939f-7389269b38cb",
   "metadata": {
    "tags": []
   },
   "outputs": [],
   "source": [
    "ConfusionMatrixDisplay(val_cm).plot()"
   ]
  },
  {
   "cell_type": "code",
   "execution_count": null,
   "id": "ea5e4aa0-624a-46f8-9f85-d7ad13fdab5e",
   "metadata": {
    "tags": []
   },
   "outputs": [],
   "source": [
    "misclassified = 0\n",
    "for i in range(labels_test.shape[0]):\n",
    "    if y_test[i] != labels_test[i]:\n",
    "      misclassified += 1\n",
    "misclassified"
   ]
  },
  {
   "cell_type": "code",
   "execution_count": null,
   "id": "69bc3a6d-1460-4a28-a9d3-2a980f990854",
   "metadata": {
    "tags": []
   },
   "outputs": [],
   "source": [
    "classification = np.array(list(map(lambda x, y: x == y, y_test, labels_test)))\n",
    "np.unique(classification, return_counts=True)"
   ]
  },
  {
   "cell_type": "code",
   "execution_count": null,
   "id": "fff3933f-a274-4045-9b1b-413d64f5fb3f",
   "metadata": {},
   "outputs": [],
   "source": [
    "j = 0\n",
    "k = 0\n",
    "plt.figure(figsize=(30, 500))\n",
    "for images, labels in test_ds.take(tf.data.experimental.cardinality(test_dataset)):\n",
    "    for i in range(images.shape[0]):\n",
    "      if not classification[k]:\n",
    "        ax = plt.subplot(50, 4, j + 1)\n",
    "        plt.imshow(images[i].numpy().astype(\"uint8\"))\n",
    "        plt.title(f'{y_test[k]}, {labels[i]}')\n",
    "        plt.axis(\"off\")\n",
    "        j += 1\n",
    "      k += 1\n",
    "print(j)"
   ]
  },
  {
   "cell_type": "code",
   "execution_count": null,
   "id": "9e9490ad-d1ea-485e-b0d7-e71ebbc926f5",
   "metadata": {
    "tags": []
   },
   "outputs": [],
   "source": [
    "print(classification_report(labels_test, y_test))"
   ]
  }
 ],
 "metadata": {
  "kernelspec": {
   "display_name": "Tensorflow-2.7.0",
   "language": "python",
   "name": "tensorflow-2.7.0"
  },
  "language_info": {
   "codemirror_mode": {
    "name": "ipython",
    "version": 3
   },
   "file_extension": ".py",
   "mimetype": "text/x-python",
   "name": "python",
   "nbconvert_exporter": "python",
   "pygments_lexer": "ipython3",
   "version": "3.9.12"
  }
 },
 "nbformat": 4,
 "nbformat_minor": 5
}
