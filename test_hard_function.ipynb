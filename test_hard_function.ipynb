{
 "cells": [
  {
   "cell_type": "code",
   "execution_count": null,
   "id": "31bad705-b800-4e96-bc4a-8170a06e22f9",
   "metadata": {
    "tags": []
   },
   "outputs": [],
   "source": [
    "%matplotlib inline\n",
    "import matplotlib.pyplot as plt\n",
    "import seaborn as sns; sns.set()\n",
    "import numpy as np\n",
    "import tensorflow as tf\n",
    "\n",
    "import os\n",
    "from tensorflow import keras\n",
    "from tensorflow.keras import layers\n",
    "from tensorflow.keras.models import Sequential\n",
    "\n",
    "from sklearn.model_selection import train_test_split\n",
    "from sklearn.metrics import confusion_matrix, ConfusionMatrixDisplay, classification_report"
   ]
  },
  {
   "cell_type": "code",
   "execution_count": null,
   "id": "8d13e03e-005c-49b8-b77f-062216604a5c",
   "metadata": {
    "tags": []
   },
   "outputs": [],
   "source": [
    "test_dataset = np.load('').T # Input the path to your test dataset here\n",
    "labels = np.load('') # Input the path to your test labels here"
   ]
  },
  {
   "cell_type": "code",
   "execution_count": null,
   "id": "93c2ae4d-802f-4eb7-9c2f-3134df5d010f",
   "metadata": {
    "tags": []
   },
   "outputs": [],
   "source": [
    "data_test_size = test_dataset.shape[0]\n",
    "data_test_shaped = np.zeros(shape=(data_test_size,300,300,3))\n",
    "\n",
    "for image in range(data_test_size):\n",
    "    one_img = test_dataset[image].reshape((300, 300, 3))\n",
    "    data_test_shaped[image] = one_img\n",
    "data_test_shaped.shape"
   ]
  },
  {
   "cell_type": "code",
   "execution_count": null,
   "id": "54ca2512-b2e0-421f-bd84-a9fef62e7e60",
   "metadata": {
    "tags": []
   },
   "outputs": [],
   "source": [
    "import gc\n",
    "del test_dataset\n",
    "gc.collect()"
   ]
  },
  {
   "cell_type": "code",
   "execution_count": null,
   "id": "1dd746f2-eeb7-423c-bb3d-d4b6ca9e98ba",
   "metadata": {
    "tags": []
   },
   "outputs": [],
   "source": [
    "data_test_shaped = data_test_shaped.astype('uint8')\n",
    "labels_test = labels.astype('uint8')"
   ]
  },
  {
   "cell_type": "code",
   "execution_count": null,
   "id": "f9d8b25c-8d10-40d3-ace0-e66e3c1f7467",
   "metadata": {
    "tags": []
   },
   "outputs": [],
   "source": [
    "test_dataset = tf.data.Dataset.from_tensor_slices((data_test_shaped, labels))"
   ]
  },
  {
   "cell_type": "code",
   "execution_count": null,
   "id": "b37f2b4a-1028-48b5-9d20-e7e8cd111990",
   "metadata": {
    "tags": []
   },
   "outputs": [],
   "source": [
    "BATCH_SIZE = 42\n",
    "SHUFFLE_BUFFER_SIZE = 100\n",
    "\n",
    "test_dataset = test_dataset.batch(BATCH_SIZE)"
   ]
  },
  {
   "cell_type": "code",
   "execution_count": null,
   "id": "79290a0f-8985-4b42-89e7-0746a2007bae",
   "metadata": {
    "tags": []
   },
   "outputs": [],
   "source": [
    "test_dataset"
   ]
  },
  {
   "cell_type": "code",
   "execution_count": null,
   "id": "42f0db1d-0ee3-49d5-b6e2-5dd51744755f",
   "metadata": {
    "tags": []
   },
   "outputs": [],
   "source": [
    "plt.figure(figsize=(10, 10))\n",
    "for images, labels in test_dataset.take(1):\n",
    "  for i in range(9):\n",
    "    ax = plt.subplot(3, 3, i + 1)\n",
    "    plt.imshow(images[i].numpy().astype(\"uint8\"))\n",
    "    plt.title(labels[i].numpy())\n",
    "    plt.axis(\"off\")"
   ]
  },
  {
   "cell_type": "code",
   "execution_count": null,
   "id": "1c877db7-dcf8-4ec7-85c5-7ce339e77b27",
   "metadata": {
    "id": "Q9pFlFWgBKgH",
    "scrolled": true,
    "tags": []
   },
   "outputs": [],
   "source": [
    "print('Number of train batches: %d' % tf.data.experimental.cardinality(test_dataset))"
   ]
  },
  {
   "cell_type": "code",
   "execution_count": null,
   "id": "39bf1068-fbc0-4c78-b3d7-ce8532a77ac4",
   "metadata": {},
   "outputs": [],
   "source": [
    "for image_batch, labels_batch in test_dataset:\n",
    "  print(image_batch.shape)\n",
    "  print(labels_batch.shape)\n",
    "  break"
   ]
  },
  {
   "cell_type": "code",
   "execution_count": null,
   "id": "9bdf20de-bb3c-41ff-8303-21eed9f7d9c4",
   "metadata": {},
   "outputs": [],
   "source": [
    "AUTOTUNE = tf.data.AUTOTUNE\n",
    "\n",
    "test_ds = test_dataset.cache().prefetch(buffer_size=AUTOTUNE)"
   ]
  },
  {
   "cell_type": "code",
   "execution_count": null,
   "id": "a40ccb8e-60c8-4cff-a4d2-aaa603184b79",
   "metadata": {
    "tags": []
   },
   "outputs": [],
   "source": [
    "Nocturna = tf.keras.models.load_model('NocturnaEmblemClassifierV3.h5')"
   ]
  },
  {
   "cell_type": "code",
   "execution_count": null,
   "id": "8e030908-91f8-43ac-80b3-ec40395d1135",
   "metadata": {
    "tags": []
   },
   "outputs": [],
   "source": [
    "predictions = Nocturna.predict(test_ds)"
   ]
  },
  {
   "cell_type": "code",
   "execution_count": null,
   "id": "2d43a396-a1cb-4137-bd6c-bee4399d78e8",
   "metadata": {
    "tags": []
   },
   "outputs": [],
   "source": [
    "class_names = [0,1,2,3,4,5,6,7,8,9]"
   ]
  },
  {
   "cell_type": "code",
   "execution_count": null,
   "id": "65e85660-aa4a-4000-a3a5-51edc213a9bc",
   "metadata": {
    "tags": []
   },
   "outputs": [],
   "source": [
    "y_test = np.zeros(shape=predictions.shape[0])\n",
    "y_test_score = np.zeros(shape=predictions.shape[0])\n",
    "\n",
    "for i in range(predictions.shape[0]):\n",
    "    score = tf.nn.softmax(predictions[i])\n",
    "    y_test[i] = class_names[np.argmax(score)]\n",
    "    y_test_score[i] = np.max(score)\n",
    "y_tuple = np.array(list(map(lambda x, y:(x,y), y_test, y_test_score)))"
   ]
  },
  {
   "cell_type": "code",
   "execution_count": null,
   "id": "c1e396ba-4c2e-4b63-822f-7ebce5633d52",
   "metadata": {
    "tags": []
   },
   "outputs": [],
   "source": [
    "y_test = np.zeros(shape=(y_tuple.shape[0]))\n",
    "threshold = 0.8\n",
    "i = 0\n",
    "for l, p in y_tuple:\n",
    "  if p < threshold:\n",
    "    y_test[i] = -1.0\n",
    "  else:\n",
    "    y_test[i] = l\n",
    "  i += 1"
   ]
  },
  {
   "cell_type": "code",
   "execution_count": null,
   "id": "4d4c4dcf-462c-4c26-8864-86fd4d78fc8b",
   "metadata": {
    "tags": []
   },
   "outputs": [],
   "source": [
    "test_cm = confusion_matrix(labels_test, y_test, labels = [-1,0,1,2,3,4,5,6,7,8,9])"
   ]
  },
  {
   "cell_type": "code",
   "execution_count": null,
   "id": "5e46d50e-a5bb-41f9-af9d-754128dd8ccb",
   "metadata": {
    "tags": []
   },
   "outputs": [],
   "source": [
    "\n",
    "ConfusionMatrixDisplay(test_cm, display_labels=[-1,0,1,2,3,4,5,6,7,8,9]).plot()"
   ]
  },
  {
   "cell_type": "code",
   "execution_count": null,
   "id": "6ef673f2-42d0-40ed-b232-52c80173f7b1",
   "metadata": {
    "tags": []
   },
   "outputs": [],
   "source": [
    "misclassified = 0\n",
    "for i in range(labels_test.shape[0]):\n",
    "    if y_test[i] != labels_test[i]:\n",
    "      misclassified += 1\n",
    "misclassified"
   ]
  },
  {
   "cell_type": "code",
   "execution_count": null,
   "id": "51e40279-9ff6-4d53-a21b-c408e5ef42c2",
   "metadata": {
    "tags": []
   },
   "outputs": [],
   "source": [
    "classification = np.array(list(map(lambda x, y: x == y, y_test, labels_test)))\n",
    "np.unique(classification, return_counts=True)"
   ]
  },
  {
   "cell_type": "code",
   "execution_count": null,
   "id": "d7642ef9-8a30-4d78-a0b7-6c0276de3ddc",
   "metadata": {
    "tags": []
   },
   "outputs": [],
   "source": [
    "j = 0\n",
    "k = 0\n",
    "plt.figure(figsize=(30, 500))\n",
    "for images, labels in test_ds.take(tf.data.experimental.cardinality(test_dataset)):\n",
    "    for i in range(images.shape[0]):\n",
    "      if not classification[k]:\n",
    "        ax = plt.subplot(50, 4, j + 1)\n",
    "        plt.imshow(images[i].numpy().astype(\"uint8\"))\n",
    "        plt.title(f'{y_test[k]}, {labels[i]}')\n",
    "        plt.axis(\"off\")\n",
    "        j += 1\n",
    "      k += 1\n",
    "print(j)"
   ]
  },
  {
   "cell_type": "code",
   "execution_count": null,
   "id": "da9eb7be-bf97-42fe-89a0-6bfd66ae59be",
   "metadata": {
    "tags": []
   },
   "outputs": [],
   "source": [
    "print(classification_report(labels_test, y_test))"
   ]
  }
 ],
 "metadata": {
  "kernelspec": {
   "display_name": "Tensorflow-2.7.0",
   "language": "python",
   "name": "tensorflow-2.7.0"
  },
  "language_info": {
   "codemirror_mode": {
    "name": "ipython",
    "version": 3
   },
   "file_extension": ".py",
   "mimetype": "text/x-python",
   "name": "python",
   "nbconvert_exporter": "python",
   "pygments_lexer": "ipython3",
   "version": "3.9.12"
  }
 },
 "nbformat": 4,
 "nbformat_minor": 5
}
